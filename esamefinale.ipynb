{
 "cells": [
  {
   "cell_type": "code",
   "execution_count": 12,
   "id": "e9ffcd93-0ec6-4917-b4eb-2713a5ed7687",
   "metadata": {
    "tags": []
   },
   "outputs": [],
   "source": [
    "import pandas as pd\n",
    "File_path = r\"C:\\Users\\Utente\\Downloads\\owid-covid-data.csv\"\n",
    "Dataset = pd.read_csv (File_path, low_memory=False)"
   ]
  },
  {
   "cell_type": "code",
   "execution_count": 13,
   "id": "71966cd4-89df-4ffb-b284-99f9ad6c57e3",
   "metadata": {
    "tags": []
   },
   "outputs": [
    {
     "name": "stdout",
     "output_type": "stream",
     "text": [
      "Dimensioni del dataset: (380265, 67)\n"
     ]
    }
   ],
   "source": [
    "dimensioni_dataset = Dataset.shape\n",
    "print(f\"Dimensioni del dataset: {dimensioni_dataset}\")"
   ]
  },
  {
   "cell_type": "code",
   "execution_count": 15,
   "id": "05819784-8343-42c6-8670-5ea8bc4a1b60",
   "metadata": {
    "tags": []
   },
   "outputs": [
    {
     "name": "stdout",
     "output_type": "stream",
     "text": [
      "Intestazione del dataset:\n",
      "  iso_code continent     location        date  total_cases  new_cases  \\\n",
      "0      AFG      Asia  Afghanistan  2020-01-05          NaN        0.0   \n",
      "1      AFG      Asia  Afghanistan  2020-01-06          NaN        0.0   \n",
      "2      AFG      Asia  Afghanistan  2020-01-07          NaN        0.0   \n",
      "3      AFG      Asia  Afghanistan  2020-01-08          NaN        0.0   \n",
      "4      AFG      Asia  Afghanistan  2020-01-09          NaN        0.0   \n",
      "\n",
      "   new_cases_smoothed  total_deaths  new_deaths  new_deaths_smoothed  ...  \\\n",
      "0                 NaN           NaN         0.0                  NaN  ...   \n",
      "1                 NaN           NaN         0.0                  NaN  ...   \n",
      "2                 NaN           NaN         0.0                  NaN  ...   \n",
      "3                 NaN           NaN         0.0                  NaN  ...   \n",
      "4                 NaN           NaN         0.0                  NaN  ...   \n",
      "\n",
      "   male_smokers  handwashing_facilities  hospital_beds_per_thousand  \\\n",
      "0           NaN                  37.746                         0.5   \n",
      "1           NaN                  37.746                         0.5   \n",
      "2           NaN                  37.746                         0.5   \n",
      "3           NaN                  37.746                         0.5   \n",
      "4           NaN                  37.746                         0.5   \n",
      "\n",
      "   life_expectancy  human_development_index  population  \\\n",
      "0            64.83                    0.511  41128772.0   \n",
      "1            64.83                    0.511  41128772.0   \n",
      "2            64.83                    0.511  41128772.0   \n",
      "3            64.83                    0.511  41128772.0   \n",
      "4            64.83                    0.511  41128772.0   \n",
      "\n",
      "   excess_mortality_cumulative_absolute  excess_mortality_cumulative  \\\n",
      "0                                   NaN                          NaN   \n",
      "1                                   NaN                          NaN   \n",
      "2                                   NaN                          NaN   \n",
      "3                                   NaN                          NaN   \n",
      "4                                   NaN                          NaN   \n",
      "\n",
      "   excess_mortality  excess_mortality_cumulative_per_million  \n",
      "0               NaN                                      NaN  \n",
      "1               NaN                                      NaN  \n",
      "2               NaN                                      NaN  \n",
      "3               NaN                                      NaN  \n",
      "4               NaN                                      NaN  \n",
      "\n",
      "[5 rows x 67 columns]\n"
     ]
    }
   ],
   "source": [
    "intestazione_dataset = Dataset.head()\n",
    "print(\"Intestazione del dataset:\")\n",
    "print(intestazione_dataset)"
   ]
  },
  {
   "cell_type": "code",
   "execution_count": 18,
   "id": "23b2af0f-4d76-46ef-a08b-c239406e10c2",
   "metadata": {
    "tags": []
   },
   "outputs": [
    {
     "name": "stdout",
     "output_type": "stream",
     "text": [
      "\n",
      "Numero totale di casi per continente:\n",
      "continent\n",
      "Africa           1.240883e+10\n",
      "Asia             2.015278e+11\n",
      "Europe           1.943245e+11\n",
      "North America    1.061758e+11\n",
      "Oceania          9.092012e+09\n",
      "South America    6.192465e+10\n",
      "Name: total_cases, dtype: float64\n"
     ]
    }
   ],
   "source": [
    "dataset_continente = Dataset.dropna(subset=['continent'])\n",
    "casi_per_continente = dataset_continente.groupby('continent')['total_cases'].sum()\n",
    "print(\"\\nNumero totale di casi per continente:\")\n",
    "print(casi_per_continente)"
   ]
  },
  {
   "cell_type": "code",
   "execution_count": 38,
   "id": "109747a7-1fc8-42a5-a1e6-8bd843559e7f",
   "metadata": {
    "tags": []
   },
   "outputs": [
    {
     "name": "stdout",
     "output_type": "stream",
     "text": [
      "Numero totale di casi per Europe: 194324522337.0\n",
      "Numero totale di casi per Asia: 201527812246.0\n",
      "Descrittori statistici per Europe:\n",
      "count    7.402000e+04\n",
      "mean     2.625298e+06\n",
      "std      6.331243e+06\n",
      "min      1.000000e+00\n",
      "25%      2.529200e+04\n",
      "50%      3.342700e+05\n",
      "75%      1.867117e+06\n",
      "max      3.899749e+07\n",
      "Name: total_cases, dtype: float64\n",
      "Descrittori statistici per Asia:\n",
      "count    6.470400e+04\n",
      "mean     3.114611e+06\n",
      "std      1.030186e+07\n",
      "min      1.000000e+00\n",
      "25%      5.742300e+04\n",
      "50%      3.992310e+05\n",
      "75%      1.496478e+06\n",
      "max      9.933172e+07\n",
      "Name: total_cases, dtype: float64\n",
      "\n",
      "Percentuale rispetto ai casi totali nel mondo per Europe: 7.83%\n",
      "Percentuale rispetto ai casi totali nel mondo per Asia: 8.12%\n"
     ]
    }
   ],
   "source": [
    "import pandas as pd\n",
    "\n",
    "def confronto_descrittori_statistici(Dataset, continente1, continente2):\n",
    "    dataset_continente = dataset.dropna(subset=['continent'])\n",
    "    casi_per_continente = dataset_continente.groupby('continent')['total_cases'].sum()\n",
    "    casi_totali_mondo = Dataset['total_cases'].sum()\n",
    "    dataset_continente1 = Dataset[Dataset['continent'] == continente1]\n",
    "    dataset_continente2 = Dataset[Dataset['continent'] == continente2]\n",
    "    print(f\"Numero totale di casi per {continente1}: {dataset_continente1['total_cases'].sum()}\")\n",
    "    print(f\"Numero totale di casi per {continente2}: {dataset_continente2['total_cases'].sum()}\")\n",
    "    descrittori_continente1 = dataset_continente1['total_cases'].describe()\n",
    "    descrittori_continente2 = dataset_continente2['total_cases'].describe()\n",
    "    print(f\"Descrittori statistici per {continente1}:\")\n",
    "    print(descrittori_continente1)\n",
    "    print(f\"Descrittori statistici per {continente2}:\")\n",
    "    print(descrittori_continente2)\n",
    "    percentuale_continente1 = dataset_continente1['total_cases'].sum() / casi_totali_mondo * 100\n",
    "    percentuale_continente2 = dataset_continente2['total_cases'].sum() / casi_totali_mondo * 100\n",
    "    print(f\"\\nPercentuale rispetto ai casi totali nel mondo per {continente1}: {percentuale_continente1:.2f}%\")\n",
    "    print(f\"Percentuale rispetto ai casi totali nel mondo per {continente2}: {percentuale_continente2:.2f}%\")\n",
    "\n",
    "confronto_descrittori_statistici(Dataset, 'Europe', 'Asia')\n"
   ]
  },
  {
   "cell_type": "code",
   "execution_count": 49,
   "id": "101f9787-9749-4bdb-9a0a-27e2d31a5ad4",
   "metadata": {
    "tags": []
   },
   "outputs": [
    {
     "name": "stdout",
     "output_type": "stream",
     "text": [
      "\n",
      "Descrittori statistici per Europe (Vaccinazioni Totali):\n",
      "count    2.661500e+04\n",
      "mean     2.725815e+07\n",
      "std      4.648519e+07\n",
      "min      0.000000e+00\n",
      "25%      1.457160e+06\n",
      "50%      5.360540e+06\n",
      "75%      2.211780e+07\n",
      "max      1.922215e+08\n",
      "Name: total_vaccinations, dtype: float64\n",
      "\n",
      "Descrittori statistici per Asia (Vaccinazioni Totali):\n",
      "count    1.875900e+04\n",
      "mean     2.313901e+08\n",
      "std      6.454203e+08\n",
      "min      0.000000e+00\n",
      "25%      3.333141e+06\n",
      "50%      1.681100e+07\n",
      "75%      9.194164e+07\n",
      "max      3.491077e+09\n",
      "Name: total_vaccinations, dtype: float64\n",
      "\n",
      "Percentuale rispetto alle vaccinazioni totali nel mondo per Europe: 1.77%\n",
      "Percentuale rispetto alle vaccinazioni totali nel mondo per Asia: 10.59%\n"
     ]
    }
   ],
   "source": [
    "import pandas as pd\n",
    "def confronto_descrittori_statistici_vaccinazioni(dataset, continente1, continente2):\n",
    "    dataset_continente = dataset.dropna(subset=['continent'])\n",
    "    vaccinazioni_per_continente = dataset_continente.groupby('continent')['total_vaccinations'].sum()\n",
    "    vaccinazioni_totali_mondo = dataset['total_vaccinations'].sum()\n",
    "    dataset_continente1 = dataset[dataset['continent'] == continente1]\n",
    "    dataset_continente2 = dataset[dataset['continent'] == continente2]\n",
    "    descrittori_vaccinazioni_continente1 = dataset_continente1['total_vaccinations'].describe()\n",
    "    descrittori_vaccinazioni_continente2 = dataset_continente2['total_vaccinations'].describe()\n",
    "    percentuale_vaccinazioni_continente1 = dataset_continente1['total_vaccinations'].sum() / vaccinazioni_totali_mondo * 100\n",
    "    percentuale_vaccinazioni_continente2 = dataset_continente2['total_vaccinations'].sum() / vaccinazioni_totali_mondo * 100\n",
    "    print(f\"\\nDescrittori statistici per {continente1} (Vaccinazioni Totali):\")\n",
    "    print(descrittori_vaccinazioni_continente1)\n",
    "    print(f\"\\nDescrittori statistici per {continente2} (Vaccinazioni Totali):\")\n",
    "    print(descrittori_vaccinazioni_continente2)\n",
    "    print(f\"\\nPercentuale rispetto alle vaccinazioni totali nel mondo per {continente1}: {percentuale_vaccinazioni_continente1:.2f}%\")\n",
    "    print(f\"Percentuale rispetto alle vaccinazioni totali nel mondo per {continente2}: {percentuale_vaccinazioni_continente2:.2f}%\")\n",
    "\n",
    "confronto_descrittori_statistici_vaccinazioni(dataset, 'Europe', 'Asia')\n"
   ]
  },
  {
   "cell_type": "code",
   "execution_count": null,
   "id": "03467bf5-426d-457f-8afd-b79dfbf59400",
   "metadata": {},
   "outputs": [],
   "source": [
    " l'Europa presenta il maggior numero di casi totali, con una percentuale significativa rispetto al totale mondiale. il Sud America evidenzia una situazione di maggiore impatto percentuale delle vaccinazioni totali rispetto al numero di casi, l'Oceania mostra cifre contenute, con percentuali basse sia per i casi che per le vaccinazioni, suggerendo una situazione relativamente più controllata in termini di impatto della pandemia."
   ]
  }
 ],
 "metadata": {
  "kernelspec": {
   "display_name": "Python 3 (ipykernel)",
   "language": "python",
   "name": "python3"
  },
  "language_info": {
   "codemirror_mode": {
    "name": "ipython",
    "version": 3
   },
   "file_extension": ".py",
   "mimetype": "text/x-python",
   "name": "python",
   "nbconvert_exporter": "python",
   "pygments_lexer": "ipython3",
   "version": "3.11.3"
  }
 },
 "nbformat": 4,
 "nbformat_minor": 5
}
